{
 "cells": [
  {
   "cell_type": "code",
   "execution_count": 4,
   "metadata": {},
   "outputs": [],
   "source": [
    "# Import system\n",
    "# !pip install requests\n",
    "# !pip install bs4\n",
    "# !pip install pandas\n",
    "import requests\n",
    "from bs4 import BeautifulSoup\n",
    "import pandas as pd\n"
   ]
  },
  {
   "cell_type": "code",
   "execution_count": 5,
   "metadata": {},
   "outputs": [
    {
     "name": "stdout",
     "output_type": "stream",
     "text": [
      "{'user-agent': 'Mozilla/5.0 (Windows NT 10.0;     Win64; x64) AppleWebKit/537.36 (KHTML, like Gecko)     Chrome/84.0.4147.105 Safari/537.36'}\n"
     ]
    }
   ],
   "source": [
    "headers = {'user-agent': 'Mozilla/5.0 (Windows NT 10.0; \\\n",
    "    Win64; x64) AppleWebKit/537.36 (KHTML, like Gecko) \\\n",
    "    Chrome/84.0.4147.105 Safari/537.36'}\n",
    "print(headers)"
   ]
  },
  {
   "cell_type": "code",
   "execution_count": 8,
   "metadata": {},
   "outputs": [
    {
     "name": "stdout",
     "output_type": "stream",
     "text": [
      "['https://www.investing.com/equities/nike', 'https://www.investing.com/equities/coca-cola-co', 'https://www.investing.com/equities/microsoft-corp', 'https://www.investing.com/equities/3m-co', 'https://www.investing.com/equities/american-express', 'https://www.investing.com/equities/amgen-inc', 'https://www.investing.com/equities/apple-computer-inc', 'https://www.investing.com/equities/boeing-co', 'https://www.investing.com/equities/cisco-sys-inc', 'https://www.investing.com/equities/goldman-sachs-group', 'https://www.investing.com/equities/ibm', 'https://www.investing.com/equities/intel-corp', 'https://www.investing.com/equities/jp-morgan-chase', 'https://www.investing.com/equities/mcdonalds', 'https://www.investing.com/equities/salesforce-com', 'https://www.investing.com/equities/verizon-communications', 'https://www.investing.com/equities/visa-inc', 'https://www.investing.com/equities/wal-mart-stores', 'https://www.investing.com/equities/disney']\n"
     ]
    }
   ],
   "source": [
    "#List Urls \n",
    "urls = [\n",
    "    'https://www.investing.com/equities/nike',\n",
    "    'https://www.investing.com/equities/coca-cola-co',\n",
    "    'https://www.investing.com/equities/microsoft-corp',\n",
    "    'https://www.investing.com/equities/3m-co',\n",
    "    'https://www.investing.com/equities/american-express',\n",
    "    'https://www.investing.com/equities/amgen-inc',\n",
    "    'https://www.investing.com/equities/apple-computer-inc',\n",
    "    'https://www.investing.com/equities/boeing-co',\n",
    "    'https://www.investing.com/equities/cisco-sys-inc',\n",
    "    'https://www.investing.com/equities/goldman-sachs-group',\n",
    "    'https://www.investing.com/equities/ibm',\n",
    "    'https://www.investing.com/equities/intel-corp',\n",
    "    'https://www.investing.com/equities/jp-morgan-chase',\n",
    "    'https://www.investing.com/equities/mcdonalds',\n",
    "    'https://www.investing.com/equities/salesforce-com',\n",
    "    'https://www.investing.com/equities/verizon-communications',\n",
    "    'https://www.investing.com/equities/visa-inc',\n",
    "    'https://www.investing.com/equities/wal-mart-stores',\n",
    "    'https://www.investing.com/equities/disney',\n",
    "    ]\n",
    "urls"
   ]
  }
 ],
 "metadata": {
  "kernelspec": {
   "display_name": "base",
   "language": "python",
   "name": "python3"
  },
  "language_info": {
   "codemirror_mode": {
    "name": "ipython",
    "version": 3
   },
   "file_extension": ".py",
   "mimetype": "text/x-python",
   "name": "python",
   "nbconvert_exporter": "python",
   "pygments_lexer": "ipython3",
   "version": "3.8.5"
  },
  "orig_nbformat": 4
 },
 "nbformat": 4,
 "nbformat_minor": 2
}
